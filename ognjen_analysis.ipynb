{
 "cells": [
  {
   "cell_type": "code",
   "execution_count": 1,
   "metadata": {
    "collapsed": true
   },
   "outputs": [],
   "source": [
    "import pandas as pd\n",
    "\n",
    "import numpy as np\n",
    "\n",
    "import random\n",
    "\n",
    "import csv"
   ]
  },
  {
   "cell_type": "code",
   "execution_count": 2,
   "metadata": {
    "collapsed": false
   },
   "outputs": [],
   "source": [
    "df = pd.read_csv(\"USstockdata.csv\")"
   ]
  },
  {
   "cell_type": "code",
   "execution_count": null,
   "metadata": {
    "collapsed": true
   },
   "outputs": [],
   "source": []
  },
  {
   "cell_type": "code",
   "execution_count": 4,
   "metadata": {
    "collapsed": false
   },
   "outputs": [],
   "source": [
    "#removes rows with empty data and data containing strings and errors\n",
    "\n",
    "df.dropna()\n",
    "\n",
    "\n",
    "df = df[df.RET != \"C\"]\n",
    "df = df[df.RET != \"B\"]\n"
   ]
  },
  {
   "cell_type": "code",
   "execution_count": 5,
   "metadata": {
    "collapsed": false
   },
   "outputs": [],
   "source": [
    "# converts data to proper formats, high precision floats and datetime\n",
    "\n",
    "df[\"RET\"] = df[\"RET\"].astype(np.float64)\n",
    "df[\"date\"] = pd.to_datetime(df[\"date\"])\n",
    "df.set_index(df[\"date\"])\n",
    "df = df.set_index(pd.DatetimeIndex(df[\"date\"]))"
   ]
  },
  {
   "cell_type": "code",
   "execution_count": 40,
   "metadata": {
    "collapsed": false
   },
   "outputs": [
    {
     "data": {
      "text/html": [
       "<div>\n",
       "<table border=\"1\" class=\"dataframe\">\n",
       "  <thead>\n",
       "    <tr style=\"text-align: right;\">\n",
       "      <th></th>\n",
       "      <th>PERMNO</th>\n",
       "      <th>date</th>\n",
       "      <th>RET</th>\n",
       "      <th>number_of_values</th>\n",
       "    </tr>\n",
       "  </thead>\n",
       "  <tbody>\n",
       "    <tr>\n",
       "      <th>1994-12-30</th>\n",
       "      <td>10001</td>\n",
       "      <td>1994-12-30</td>\n",
       "      <td>-0.033433</td>\n",
       "      <td>NaN</td>\n",
       "    </tr>\n",
       "    <tr>\n",
       "      <th>1995-01-31</th>\n",
       "      <td>10001</td>\n",
       "      <td>1995-01-31</td>\n",
       "      <td>-0.031250</td>\n",
       "      <td>NaN</td>\n",
       "    </tr>\n",
       "    <tr>\n",
       "      <th>1995-02-28</th>\n",
       "      <td>10001</td>\n",
       "      <td>1995-02-28</td>\n",
       "      <td>-0.026210</td>\n",
       "      <td>NaN</td>\n",
       "    </tr>\n",
       "    <tr>\n",
       "      <th>1995-03-31</th>\n",
       "      <td>10001</td>\n",
       "      <td>1995-03-31</td>\n",
       "      <td>0.006377</td>\n",
       "      <td>NaN</td>\n",
       "    </tr>\n",
       "    <tr>\n",
       "      <th>1995-04-28</th>\n",
       "      <td>10001</td>\n",
       "      <td>1995-04-28</td>\n",
       "      <td>0.000000</td>\n",
       "      <td>NaN</td>\n",
       "    </tr>\n",
       "  </tbody>\n",
       "</table>\n",
       "</div>"
      ],
      "text/plain": [
       "            PERMNO       date       RET  number_of_values\n",
       "1994-12-30   10001 1994-12-30 -0.033433               NaN\n",
       "1995-01-31   10001 1995-01-31 -0.031250               NaN\n",
       "1995-02-28   10001 1995-02-28 -0.026210               NaN\n",
       "1995-03-31   10001 1995-03-31  0.006377               NaN\n",
       "1995-04-28   10001 1995-04-28  0.000000               NaN"
      ]
     },
     "execution_count": 40,
     "metadata": {},
     "output_type": "execute_result"
    }
   ],
   "source": [
    "# df.set_index(df[\"Names Date\"])\n",
    "# df_m = df.groupby([\"PERMNO\", pd.TimeGrouper(freq='M')])[\"Returns\"].sum()\n",
    "\n",
    "#filters by count greater than 223\n",
    "\n",
    "df =df.groupby( \"PERMNO\").filter( lambda x: len(x) >223)\n"
   ]
  },
  {
   "cell_type": "code",
   "execution_count": 28,
   "metadata": {
    "collapsed": false
   },
   "outputs": [
    {
     "data": {
      "text/html": [
       "<div>\n",
       "<table border=\"1\" class=\"dataframe\">\n",
       "  <thead>\n",
       "    <tr style=\"text-align: right;\">\n",
       "      <th></th>\n",
       "      <th>PERMNO</th>\n",
       "      <th>date</th>\n",
       "      <th>RET</th>\n",
       "      <th>number_of_values</th>\n",
       "    </tr>\n",
       "  </thead>\n",
       "  <tbody>\n",
       "    <tr>\n",
       "      <th>1994-12-30</th>\n",
       "      <td>10001</td>\n",
       "      <td>1994-12-30</td>\n",
       "      <td>-0.033433</td>\n",
       "      <td>NaN</td>\n",
       "    </tr>\n",
       "    <tr>\n",
       "      <th>1995-01-31</th>\n",
       "      <td>10001</td>\n",
       "      <td>1995-01-31</td>\n",
       "      <td>-0.031250</td>\n",
       "      <td>NaN</td>\n",
       "    </tr>\n",
       "    <tr>\n",
       "      <th>1995-02-28</th>\n",
       "      <td>10001</td>\n",
       "      <td>1995-02-28</td>\n",
       "      <td>-0.026210</td>\n",
       "      <td>NaN</td>\n",
       "    </tr>\n",
       "    <tr>\n",
       "      <th>1995-03-31</th>\n",
       "      <td>10001</td>\n",
       "      <td>1995-03-31</td>\n",
       "      <td>0.006377</td>\n",
       "      <td>NaN</td>\n",
       "    </tr>\n",
       "    <tr>\n",
       "      <th>1995-04-28</th>\n",
       "      <td>10001</td>\n",
       "      <td>1995-04-28</td>\n",
       "      <td>0.000000</td>\n",
       "      <td>NaN</td>\n",
       "    </tr>\n",
       "  </tbody>\n",
       "</table>\n",
       "</div>"
      ],
      "text/plain": [
       "            PERMNO       date       RET  number_of_values\n",
       "1994-12-30   10001 1994-12-30 -0.033433               NaN\n",
       "1995-01-31   10001 1995-01-31 -0.031250               NaN\n",
       "1995-02-28   10001 1995-02-28 -0.026210               NaN\n",
       "1995-03-31   10001 1995-03-31  0.006377               NaN\n",
       "1995-04-28   10001 1995-04-28  0.000000               NaN"
      ]
     },
     "execution_count": 28,
     "metadata": {},
     "output_type": "execute_result"
    }
   ],
   "source": [
    "df.head()"
   ]
  },
  {
   "cell_type": "code",
   "execution_count": 6,
   "metadata": {
    "collapsed": false
   },
   "outputs": [],
   "source": [
    "\n",
    "\n",
    "def sampling_function(number_in_sample, number_of_repeats):\n",
    "    \"\"\"\n",
    "    Takes a random sample of stocks and calculates average monthly return for a group of them\n",
    "    Data is stored in a csv file for further analysis\n",
    "    Args:\n",
    "    number_in_sample: number of different stocks\n",
    "    number_of_repeats: times the function was run\n",
    "    \"\"\"\n",
    "    for n in xrange(1, number_of_repeats):\n",
    "        dfList = df[\"PERMNO\"].tolist()\n",
    "        rand_smpl = [ dfList[i] for i in sorted(random.sample(xrange(len(dfList)), df[\"PERMNO\"].nunique())) ]\n",
    "#         with open('filename.csv', 'a') as myfile:\n",
    "#             wr = csv.writer(myfile, quoting=csv.QUOTE_ALL)\n",
    "#             wr.writerow(rand_smpl)\n",
    "\n",
    "        random_sample_df = df[df[\"PERMNO\"].isin(rand_smpl)]\n",
    "        series_sum_monthly = random_sample_df.groupby( pd.TimeGrouper(freq='M'))[\"RET\"].sum()\n",
    "        frame_sum_monthly = series_sum_monthly.to_frame()\n",
    "        frame_sum_monthly[\"Ratio\"] = frame_sum_monthly.RET/number_in_sample\n",
    "        frame_sum_monthly[\"Variance\"] = frame_sum_monthly.RET.var()\n",
    "        pp = frame_sum_monthly[\"Variance\"].iloc[0]\n",
    "\n",
    "        with open('variance.csv', 'a') as myfile:\n",
    "            wr = csv.writer(myfile, quoting=csv.QUOTE_ALL)\n",
    "            wr.writerow([pp])\n",
    "        frame_sum_monthly.to_csv('filename.csv',mode = 'a',header ='column_names')\n",
    "        \n",
    "    return\n"
   ]
  },
  {
   "cell_type": "code",
   "execution_count": 7,
   "metadata": {
    "collapsed": false
   },
   "outputs": [],
   "source": [
    "#example of a function call\n",
    "b = sampling_function(1, 1000)"
   ]
  },
  {
   "cell_type": "code",
   "execution_count": 42,
   "metadata": {
    "collapsed": false
   },
   "outputs": [
    {
     "data": {
      "text/plain": [
       "2238"
      ]
     },
     "execution_count": 42,
     "metadata": {},
     "output_type": "execute_result"
    }
   ],
   "source": [
    "df[\"PERMNO\"].nunique()"
   ]
  },
  {
   "cell_type": "code",
   "execution_count": null,
   "metadata": {
    "collapsed": false
   },
   "outputs": [],
   "source": [
    "\n"
   ]
  },
  {
   "cell_type": "code",
   "execution_count": null,
   "metadata": {
    "collapsed": false
   },
   "outputs": [],
   "source": []
  },
  {
   "cell_type": "code",
   "execution_count": null,
   "metadata": {
    "collapsed": false
   },
   "outputs": [],
   "source": []
  },
  {
   "cell_type": "code",
   "execution_count": null,
   "metadata": {
    "collapsed": false
   },
   "outputs": [],
   "source": []
  },
  {
   "cell_type": "code",
   "execution_count": null,
   "metadata": {
    "collapsed": false
   },
   "outputs": [],
   "source": []
  },
  {
   "cell_type": "code",
   "execution_count": null,
   "metadata": {
    "collapsed": false
   },
   "outputs": [],
   "source": []
  },
  {
   "cell_type": "code",
   "execution_count": null,
   "metadata": {
    "collapsed": false
   },
   "outputs": [],
   "source": []
  },
  {
   "cell_type": "code",
   "execution_count": null,
   "metadata": {
    "collapsed": false
   },
   "outputs": [],
   "source": []
  },
  {
   "cell_type": "code",
   "execution_count": null,
   "metadata": {
    "collapsed": true
   },
   "outputs": [],
   "source": []
  }
 ],
 "metadata": {
  "kernelspec": {
   "display_name": "Python 2",
   "language": "python",
   "name": "python2"
  },
  "language_info": {
   "codemirror_mode": {
    "name": "ipython",
    "version": 2
   },
   "file_extension": ".py",
   "mimetype": "text/x-python",
   "name": "python",
   "nbconvert_exporter": "python",
   "pygments_lexer": "ipython2",
   "version": "2.7.10"
  }
 },
 "nbformat": 4,
 "nbformat_minor": 0
}
