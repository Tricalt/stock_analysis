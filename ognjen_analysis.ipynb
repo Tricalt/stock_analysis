{
 "cells": [
  {
   "cell_type": "code",
   "execution_count": 1,
   "metadata": {
    "collapsed": true
   },
   "outputs": [],
   "source": [
    "import pandas as pd\n",
    "\n",
    "import numpy as np\n",
    "\n",
    "import random\n",
    "\n",
    "import csv"
   ]
  },
  {
   "cell_type": "code",
   "execution_count": 2,
   "metadata": {
    "collapsed": false
   },
   "outputs": [],
   "source": [
    "df = pd.read_excel(\"USstockdata.xlsx\")"
   ]
  },
  {
   "cell_type": "code",
   "execution_count": 3,
   "metadata": {
    "collapsed": false
   },
   "outputs": [],
   "source": [
    "#removes rows with empty data and data containing strings and errors\n",
    "\n",
    "df.dropna()\n",
    "\n",
    "\n",
    "df = df[df.Returns != \"C\"]\n",
    "df = df[df.Returns != \"B\"]\n"
   ]
  },
  {
   "cell_type": "code",
   "execution_count": 8,
   "metadata": {
    "collapsed": false
   },
   "outputs": [],
   "source": [
    "# converts data to proper formats, high precision floats and datetime\n",
    "\n",
    "df[\"Returns\"] = df[\"Returns\"].astype(np.float64)\n",
    "df[\"Names Date\"] = pd.to_datetime(df[\"Names Date\"])\n",
    "df.set_index(df[\"Names Date\"])\n",
    "df = df.set_index(pd.DatetimeIndex(df[\"Names Date\"]))"
   ]
  },
  {
   "cell_type": "code",
   "execution_count": null,
   "metadata": {
    "collapsed": false
   },
   "outputs": [],
   "source": [
    "# df.set_index(df[\"Names Date\"])\n",
    "# df_m = df.groupby([\"PERMNO\", pd.TimeGrouper(freq='M')])[\"Returns\"].sum()\n",
    "\n"
   ]
  },
  {
   "cell_type": "code",
   "execution_count": 27,
   "metadata": {
    "collapsed": false
   },
   "outputs": [],
   "source": [
    "\n",
    "\n",
    "def sampling_function(number_in_sample, number_of_repeats):\n",
    "    \"\"\"\n",
    "    Takes a random sample of stocks and calculates average monthly return for a group of them\n",
    "    Data is stored in a csv file for further analysis\n",
    "    Args:\n",
    "    number_in_sample: number of different stocks\n",
    "    number_of_repeats: times the function was run\n",
    "    \"\"\"\n",
    "    for n in xrange(1, number_of_repeats):\n",
    "        dfList = df[\"PERMNO\"].tolist()\n",
    "        rand_smpl = [ dfList[i] for i in sorted(random.sample(xrange(len(dfList)), number_in_sample)) ]\n",
    "        with open('filename.csv', 'a') as myfile:\n",
    "            wr = csv.writer(myfile, quoting=csv.QUOTE_ALL)\n",
    "            wr.writerow(rand_smpl)\n",
    "\n",
    "        random_sample_df = df[df[\"PERMNO\"].isin(rand_smpl)]\n",
    "        series_sum_monthly = random_sample_df.groupby( pd.TimeGrouper(freq='M'))[\"Returns\"].sum()\n",
    "        frame_sum_monthly = series_sum_monthly.to_frame()\n",
    "        frame_sum_monthly[\"Ratio\"] = frame_sum_monthly.Returns/number_in_sample\n",
    "        frame_sum_monthly[\"Variance\"] = frame_sum_monthly.Returns.var()\n",
    "        pp = frame_sum_monthly[\"Variance\"].iloc[0]\n",
    "\n",
    "        with open('variance.csv', 'a') as myfile:\n",
    "            wr = csv.writer(myfile, quoting=csv.QUOTE_ALL)\n",
    "            wr.writerow([pp])\n",
    "        frame_sum_monthly.to_csv('filename.csv',mode = 'a',header ='column_names')\n",
    "        \n",
    "    return\n"
   ]
  },
  {
   "cell_type": "code",
   "execution_count": 28,
   "metadata": {
    "collapsed": false
   },
   "outputs": [],
   "source": [
    "#example of a function call\n",
    "\n",
    "b = sampling_function(10, 10)"
   ]
  },
  {
   "cell_type": "code",
   "execution_count": null,
   "metadata": {
    "collapsed": true
   },
   "outputs": [],
   "source": []
  },
  {
   "cell_type": "code",
   "execution_count": null,
   "metadata": {
    "collapsed": false
   },
   "outputs": [],
   "source": [
    "\n"
   ]
  },
  {
   "cell_type": "code",
   "execution_count": null,
   "metadata": {
    "collapsed": false
   },
   "outputs": [],
   "source": []
  },
  {
   "cell_type": "code",
   "execution_count": null,
   "metadata": {
    "collapsed": false
   },
   "outputs": [],
   "source": []
  },
  {
   "cell_type": "code",
   "execution_count": null,
   "metadata": {
    "collapsed": false
   },
   "outputs": [],
   "source": []
  },
  {
   "cell_type": "code",
   "execution_count": null,
   "metadata": {
    "collapsed": false
   },
   "outputs": [],
   "source": []
  },
  {
   "cell_type": "code",
   "execution_count": null,
   "metadata": {
    "collapsed": false
   },
   "outputs": [],
   "source": []
  },
  {
   "cell_type": "code",
   "execution_count": null,
   "metadata": {
    "collapsed": false
   },
   "outputs": [],
   "source": []
  },
  {
   "cell_type": "code",
   "execution_count": null,
   "metadata": {
    "collapsed": false
   },
   "outputs": [],
   "source": []
  },
  {
   "cell_type": "code",
   "execution_count": null,
   "metadata": {
    "collapsed": true
   },
   "outputs": [],
   "source": []
  }
 ],
 "metadata": {
  "kernelspec": {
   "display_name": "Python 2",
   "language": "python",
   "name": "python2"
  },
  "language_info": {
   "codemirror_mode": {
    "name": "ipython",
    "version": 2
   },
   "file_extension": ".py",
   "mimetype": "text/x-python",
   "name": "python",
   "nbconvert_exporter": "python",
   "pygments_lexer": "ipython2",
   "version": "2.7.10"
  }
 },
 "nbformat": 4,
 "nbformat_minor": 0
}
